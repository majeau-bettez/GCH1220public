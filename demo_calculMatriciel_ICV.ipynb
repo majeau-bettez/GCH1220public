{
 "cells": [
  {
   "cell_type": "markdown",
   "metadata": {},
   "source": [
    "# Première démonstration d'un calcul ACV par approche matricielle\n"
   ]
  },
  {
   "cell_type": "code",
   "execution_count": 18,
   "metadata": {},
   "outputs": [],
   "source": [
    "import pandas as pd\n",
    "import numpy as np\n",
    "def inv(X):\n",
    "    return pd.DataFrame(np.linalg.inv(X), index=X.columns, columns=X.index)"
   ]
  },
  {
   "cell_type": "markdown",
   "metadata": {},
   "source": [
    "## Définir les données - Coefficients techniques"
   ]
  },
  {
   "cell_type": "code",
   "execution_count": 19,
   "metadata": {},
   "outputs": [],
   "source": [
    "# Nos types de flux économiques\n",
    "products = ['electricité [kWh]', 'mazout [kg]']\n",
    "\n",
    "# Nos procédés élémentaires\n",
    "activities = ['Prod_el', 'Prod_maz']\n",
    "\n",
    "# Nos types de flux élémentaires\n",
    "elementary_flows = ['CO2 [kg]', 'Chaleur [MJ]']"
   ]
  },
  {
   "cell_type": "code",
   "execution_count": 20,
   "metadata": {},
   "outputs": [
    {
     "data": {
      "text/html": [
       "<div>\n",
       "<style scoped>\n",
       "    .dataframe tbody tr th:only-of-type {\n",
       "        vertical-align: middle;\n",
       "    }\n",
       "\n",
       "    .dataframe tbody tr th {\n",
       "        vertical-align: top;\n",
       "    }\n",
       "\n",
       "    .dataframe thead th {\n",
       "        text-align: right;\n",
       "    }\n",
       "</style>\n",
       "<table border=\"1\" class=\"dataframe\">\n",
       "  <thead>\n",
       "    <tr style=\"text-align: right;\">\n",
       "      <th></th>\n",
       "      <th>Prod_el</th>\n",
       "      <th>Prod_maz</th>\n",
       "    </tr>\n",
       "  </thead>\n",
       "  <tbody>\n",
       "    <tr>\n",
       "      <th>electricité [kWh]</th>\n",
       "      <td>1.00</td>\n",
       "      <td>-0.18</td>\n",
       "    </tr>\n",
       "    <tr>\n",
       "      <th>mazout [kg]</th>\n",
       "      <td>-0.24</td>\n",
       "      <td>1.00</td>\n",
       "    </tr>\n",
       "  </tbody>\n",
       "</table>\n",
       "</div>"
      ],
      "text/plain": [
       "                   Prod_el  Prod_maz\n",
       "electricité [kWh]     1.00     -0.18\n",
       "mazout [kg]          -0.24      1.00"
      ]
     },
     "execution_count": 20,
     "metadata": {},
     "output_type": "execute_result"
    }
   ],
   "source": [
    "# Notre matrice technologiques\n",
    "A = pd.DataFrame(index=products, columns=activities,\n",
    "    data = [[ 1,   -0.18],\n",
    "            [-0.24, 1]])\n",
    "A"
   ]
  },
  {
   "cell_type": "code",
   "execution_count": 21,
   "metadata": {},
   "outputs": [
    {
     "data": {
      "text/html": [
       "<div>\n",
       "<style scoped>\n",
       "    .dataframe tbody tr th:only-of-type {\n",
       "        vertical-align: middle;\n",
       "    }\n",
       "\n",
       "    .dataframe tbody tr th {\n",
       "        vertical-align: top;\n",
       "    }\n",
       "\n",
       "    .dataframe thead th {\n",
       "        text-align: right;\n",
       "    }\n",
       "</style>\n",
       "<table border=\"1\" class=\"dataframe\">\n",
       "  <thead>\n",
       "    <tr style=\"text-align: right;\">\n",
       "      <th></th>\n",
       "      <th>Prod_el</th>\n",
       "      <th>Prod_maz</th>\n",
       "    </tr>\n",
       "  </thead>\n",
       "  <tbody>\n",
       "    <tr>\n",
       "      <th>CO2 [kg]</th>\n",
       "      <td>0.77</td>\n",
       "      <td>0.44</td>\n",
       "    </tr>\n",
       "    <tr>\n",
       "      <th>Chaleur [MJ]</th>\n",
       "      <td>0.00</td>\n",
       "      <td>0.00</td>\n",
       "    </tr>\n",
       "  </tbody>\n",
       "</table>\n",
       "</div>"
      ],
      "text/plain": [
       "              Prod_el  Prod_maz\n",
       "CO2 [kg]         0.77      0.44\n",
       "Chaleur [MJ]     0.00      0.00"
      ]
     },
     "execution_count": 21,
     "metadata": {},
     "output_type": "execute_result"
    }
   ],
   "source": [
    "# Notre matrice de flux élémentaires\n",
    "B = pd.DataFrame(\n",
    "    index=elementary_flows,\n",
    "    columns=activities,\n",
    "    data= [[0.77, 0.44], \n",
    "           [0,0]])\n",
    "B"
   ]
  },
  {
   "cell_type": "code",
   "execution_count": 22,
   "metadata": {},
   "outputs": [
    {
     "data": {
      "text/plain": [
       "electricité [kWh]    100\n",
       "mazout [kg]            0\n",
       "dtype: int64"
      ]
     },
     "execution_count": 22,
     "metadata": {},
     "output_type": "execute_result"
    }
   ],
   "source": [
    "# Notre vecteur de demande finale (contient l'UF)\n",
    "f = pd.Series(index=products, data=[100, 0])\n",
    "f"
   ]
  },
  {
   "cell_type": "markdown",
   "metadata": {},
   "source": [
    "## Calculer le vecteur de mise à échelle\n",
    "\n",
    "Pour avoir un équilibre entre l'offre et la demande de type de flux économique:\n",
    "\n",
    "$$A s = f$$\n",
    "\n",
    "On isole pour trouver $s$:\n",
    "\n",
    "$$ A^{-1} A s = A^{-1} f$$\n",
    "\n",
    "$$ s = A^{-1} f $$"
   ]
  },
  {
   "cell_type": "code",
   "execution_count": 23,
   "metadata": {},
   "outputs": [
    {
     "data": {
      "text/html": [
       "<div>\n",
       "<style scoped>\n",
       "    .dataframe tbody tr th:only-of-type {\n",
       "        vertical-align: middle;\n",
       "    }\n",
       "\n",
       "    .dataframe tbody tr th {\n",
       "        vertical-align: top;\n",
       "    }\n",
       "\n",
       "    .dataframe thead th {\n",
       "        text-align: right;\n",
       "    }\n",
       "</style>\n",
       "<table border=\"1\" class=\"dataframe\">\n",
       "  <thead>\n",
       "    <tr style=\"text-align: right;\">\n",
       "      <th></th>\n",
       "      <th>electricité [kWh]</th>\n",
       "      <th>mazout [kg]</th>\n",
       "    </tr>\n",
       "  </thead>\n",
       "  <tbody>\n",
       "    <tr>\n",
       "      <th>Prod_el</th>\n",
       "      <td>1.045151</td>\n",
       "      <td>0.188127</td>\n",
       "    </tr>\n",
       "    <tr>\n",
       "      <th>Prod_maz</th>\n",
       "      <td>0.250836</td>\n",
       "      <td>1.045151</td>\n",
       "    </tr>\n",
       "  </tbody>\n",
       "</table>\n",
       "</div>"
      ],
      "text/plain": [
       "          electricité [kWh]  mazout [kg]\n",
       "Prod_el            1.045151     0.188127\n",
       "Prod_maz           0.250836     1.045151"
      ]
     },
     "execution_count": 23,
     "metadata": {},
     "output_type": "execute_result"
    }
   ],
   "source": [
    "# On inverse la matrice technologique. Le résultat est connu comme \"L'inverse de Leontief\"\n",
    "L = inv(A)\n",
    "L"
   ]
  },
  {
   "cell_type": "code",
   "execution_count": 24,
   "metadata": {},
   "outputs": [
    {
     "data": {
      "text/plain": [
       "Prod_el     104.515050\n",
       "Prod_maz     25.083612\n",
       "dtype: float64"
      ]
     },
     "execution_count": 24,
     "metadata": {},
     "output_type": "execute_result"
    }
   ],
   "source": [
    "# On calcule le vecteur de mise à échelle\n",
    "s = L @ f\n",
    "s"
   ]
  },
  {
   "cell_type": "markdown",
   "metadata": {},
   "source": [
    "### Calculer l'inventaire de cycle de vie"
   ]
  },
  {
   "cell_type": "code",
   "execution_count": 25,
   "metadata": {},
   "outputs": [
    {
     "data": {
      "text/plain": [
       "CO2 [kg]        91.513378\n",
       "Chaleur [MJ]     0.000000\n",
       "dtype: float64"
      ]
     },
     "execution_count": 25,
     "metadata": {},
     "output_type": "execute_result"
    }
   ],
   "source": [
    "B @ s"
   ]
  }
 ],
 "metadata": {
  "kernelspec": {
   "display_name": "Python 3.7.10 ('base')",
   "language": "python",
   "name": "python3"
  },
  "language_info": {
   "codemirror_mode": {
    "name": "ipython",
    "version": 3
   },
   "file_extension": ".py",
   "mimetype": "text/x-python",
   "name": "python",
   "nbconvert_exporter": "python",
   "pygments_lexer": "ipython3",
   "version": "3.7.10"
  },
  "vscode": {
   "interpreter": {
    "hash": "e0f48c8e432fbe41439af2f3425e2757429f6552f08671b58b63738efb6b6f3c"
   }
  }
 },
 "nbformat": 4,
 "nbformat_minor": 2
}
