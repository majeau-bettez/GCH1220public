{
 "cells": [
  {
   "cell_type": "markdown",
   "metadata": {},
   "source": [
    "# Première démonstration d'un calcul ACV par approche matricielle\n"
   ]
  },
  {
   "cell_type": "code",
   "execution_count": null,
   "metadata": {},
   "outputs": [],
   "source": [
    "import pandas as pd\n",
    "import numpy as np\n",
    "def inv(X):\n",
    "    return pd.DataFrame(np.linalg.inv(X), index=X.columns, columns=X.index)"
   ]
  },
  {
   "cell_type": "markdown",
   "metadata": {},
   "source": [
    "## Définir les données - Coefficients techniques"
   ]
  },
  {
   "cell_type": "code",
   "execution_count": null,
   "metadata": {},
   "outputs": [],
   "source": [
    "# Nos types de flux économiques\n",
    "products = ['electricité [kWh]', 'mazout [kg]']\n",
    "\n",
    "# Nos procédés élémentaires\n",
    "activities = ['Prod_el', 'Prod_maz']\n",
    "\n",
    "# Nos types de flux élémentaires\n",
    "elementary_flows = ['CO2 [kg]', 'Chaleur [MJ]']"
   ]
  },
  {
   "cell_type": "code",
   "execution_count": null,
   "metadata": {},
   "outputs": [],
   "source": [
    "# Notre matrice technologiques\n",
    "A = pd.DataFrame(index=products, columns=activities,\n",
    "    data = [[ 1,   -0.18],\n",
    "            [-0.24, 1]])\n",
    "A"
   ]
  },
  {
   "cell_type": "code",
   "execution_count": null,
   "metadata": {},
   "outputs": [],
   "source": [
    "# Notre matrice de flux élémentaires\n",
    "B = pd.DataFrame(\n",
    "    index=elementary_flows,\n",
    "    columns=activities,\n",
    "    data= [[0.77, 0.44], \n",
    "           [0,0]])\n",
    "B"
   ]
  },
  {
   "cell_type": "code",
   "execution_count": null,
   "metadata": {},
   "outputs": [],
   "source": [
    "# Notre vecteur de demande finale (contient l'UF)\n",
    "f = pd.Series(index=products, data=[100, 0])\n",
    "f"
   ]
  },
  {
   "cell_type": "markdown",
   "metadata": {},
   "source": [
    "## Calculer le vecteur de mise à échelle\n",
    "\n",
    "Pour avoir un équilibre entre l'offre et la demande de type de flux économique:\n",
    "\n",
    "$$A s = f$$\n",
    "\n",
    "On isole pour trouver $s$:\n",
    "\n",
    "$$ A^{-1} A s = A^{-1} f$$\n",
    "\n",
    "$$ s = A^{-1} f $$"
   ]
  },
  {
   "cell_type": "code",
   "execution_count": null,
   "metadata": {},
   "outputs": [],
   "source": [
    "# On inverse la matrice technologique. Le résultat est connu comme \"L'inverse de Leontief\"\n",
    "L = inv(A)\n",
    "L"
   ]
  },
  {
   "cell_type": "code",
   "execution_count": null,
   "metadata": {},
   "outputs": [],
   "source": [
    "# On calcule le vecteur de mise à échelle\n",
    "s = L @ f\n",
    "s"
   ]
  },
  {
   "cell_type": "markdown",
   "metadata": {},
   "source": [
    "### Calculer l'inventaire de cycle de vie"
   ]
  },
  {
   "cell_type": "code",
   "execution_count": null,
   "metadata": {},
   "outputs": [],
   "source": [
    "B @ s"
   ]
  }
 ],
 "metadata": {
  "kernelspec": {
   "display_name": "Python 3.7.10 ('base')",
   "language": "python",
   "name": "python3"
  },
  "language_info": {
   "codemirror_mode": {
    "name": "ipython",
    "version": 3
   },
   "file_extension": ".py",
   "mimetype": "text/x-python",
   "name": "python",
   "nbconvert_exporter": "python",
   "pygments_lexer": "ipython3",
   "version": "3.7.10"
  },
  "vscode": {
   "interpreter": {
    "hash": "e0f48c8e432fbe41439af2f3425e2757429f6552f08671b58b63738efb6b6f3c"
   }
  }
 },
 "nbformat": 4,
 "nbformat_minor": 2
}
